{
 "cells": [
  {
   "cell_type": "code",
   "execution_count": 188,
   "id": "b9216edd-790b-4da1-bac3-0d3923e09653",
   "metadata": {},
   "outputs": [],
   "source": [
    "import pandas as pd\n",
    "from collections import defaultdict\n"
   ]
  },
  {
   "cell_type": "code",
   "execution_count": 142,
   "id": "c9fa79fa-b94b-4314-8851-86caceed2136",
   "metadata": {},
   "outputs": [],
   "source": [
    "STOPS_FILE = 'google_transit/stops.csv'\n",
    "STOP_TIMES = 'google_transit/stop_times.csv'\n",
    "TRIPS_FILE = 'google_transit/trips.csv'\n",
    "SHAPES_FILE = 'google_transit/shapes.csv'\n",
    "\n",
    "def get_stops():\n",
    "    stops_df = pd.read_csv(STOPS_FILE)\n",
    "    return stops_df\n",
    "\n",
    "def get_stop_times():\n",
    "    stop_times_df = pd.read_csv(STOP_TIMES)\n",
    "    return stop_times_df\n",
    "\n",
    "def get_trips():\n",
    "    trips_df = pd.read_csv(TRIPS_FILE)\n",
    "    return trips_df\n",
    "\n",
    "def get_shapes():\n",
    "    shapes_df = pd.read_csv(SHAPES_FILE)\n",
    "    return shapes_df\n",
    "\n",
    "        "
   ]
  },
  {
   "cell_type": "code",
   "execution_count": 195,
   "metadata": {},
   "outputs": [],
   "source": [
    "stops = get_stops()\n",
    "stop_times = get_stop_times()\n",
    "trips = get_trips()\n",
    "raw_paths = get_shapes()\n",
    "\n",
    "def get_stop_str(lat, lon):\n",
    "  return str(lat) + '_' + str(lon)\n",
    "\n",
    "parent_stops = stops[stops['location_type'] == 1.0]\n",
    "lat_lon_to_stop_id = {}\n",
    "for index, row in parent_stops.iterrows():\n",
    "  lat_lon_to_stop_id[get_stop_str(row['stop_lat'], row['stop_lon'])] = row['stop_id']\n",
    "\n",
    "def get_stop_id(lat, lon):\n",
    "  return lat_lon_to_stop_id.get(get_stop_str(lat, lon), None)\n",
    "\n",
    "def get_stop_from_id(stop_id):\n",
    "  return stops[stops['stop_id'] == stop_id].iloc[0]['stop_name']\n"
   ]
  },
  {
   "cell_type": "code",
   "execution_count": 197,
   "metadata": {},
   "outputs": [
    {
     "name": "stdout",
     "output_type": "stream",
     "text": [
      "142\n",
      "139\n",
      "138\n",
      "137\n",
      "136\n",
      "135\n",
      "134\n",
      "133\n",
      "132\n",
      "131\n",
      "130\n",
      "129\n",
      "128\n",
      "127\n",
      "126\n",
      "125\n",
      "124\n",
      "123\n",
      "122\n",
      "121\n",
      "120\n",
      "119\n",
      "118\n",
      "117\n",
      "116\n",
      "115\n",
      "114\n",
      "113\n",
      "112\n",
      "111\n",
      "110\n",
      "109\n",
      "108\n",
      "107\n",
      "106\n",
      "104\n",
      "103\n",
      "101\n"
     ]
    }
   ],
   "source": [
    "path_n03r = raw_paths[raw_paths['shape_id'] == '1..N03R']\n",
    "for index, row in path_n03r.iterrows(): \n",
    "  if(get_stop_id(row['shape_pt_lat'], row['shape_pt_lon']) != None):\n",
    "    print(get_stop_id(row['shape_pt_lat'], row['shape_pt_lon']))\n",
    "  "
   ]
  },
  {
   "cell_type": "code",
   "execution_count": 192,
   "metadata": {},
   "outputs": [
    {
     "data": {
      "text/plain": [
       "\"\\nstops is self explanatory. There are 499 stops in the system. (We might need to exclude the staten island ones later)\\nStop ID, Stop Name, stop lat, and lon helps us uniquely identify each with shapes later\\n\\nshapes essentially describes the path of each train line. 2..N03R\\tfor example describes New Lots Ave to Wakefield-241 St and 1..N03R describes South Ferry to Van Cortlandt Park-242 St.\\nBoth technically belong to the 1 train, but have different starting and endpoints. \\n\\nlet's ignore stop times for now\\n\""
      ]
     },
     "execution_count": 192,
     "metadata": {},
     "output_type": "execute_result"
    }
   ],
   "source": [
    "'''\n",
    "stops is self explanatory. There are 499 stops in the system. (We might need to exclude the staten island ones later)\n",
    "Stop ID, Stop Name, stop lat, and lon helps us uniquely identify each with shapes later\n",
    "\n",
    "shapes essentially describes the path of each train line. 2..N03R\tfor example describes New Lots Ave to Wakefield-241 St and 1..N03R describes South Ferry to Van Cortlandt Park-242 St.\n",
    "Both technically belong to the 1 train, but have different starting and endpoints. \n",
    "\n",
    "let's ignore stop times for now\n",
    "'''"
   ]
  },
  {
   "cell_type": "code",
   "execution_count": null,
   "metadata": {},
   "outputs": [],
   "source": []
  },
  {
   "cell_type": "code",
   "execution_count": null,
   "metadata": {},
   "outputs": [],
   "source": []
  }
 ],
 "metadata": {
  "kernelspec": {
   "display_name": "Python 3 (ipykernel)",
   "language": "python",
   "name": "python3"
  },
  "language_info": {
   "codemirror_mode": {
    "name": "ipython",
    "version": 3
   },
   "file_extension": ".py",
   "mimetype": "text/x-python",
   "name": "python",
   "nbconvert_exporter": "python",
   "pygments_lexer": "ipython3",
   "version": "3.11.5"
  }
 },
 "nbformat": 4,
 "nbformat_minor": 5
}
