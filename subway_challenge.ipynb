{
 "cells": [
  {
   "cell_type": "code",
   "execution_count": 38,
   "id": "b9216edd-790b-4da1-bac3-0d3923e09653",
   "metadata": {},
   "outputs": [],
   "source": [
    "import pandas as pd\n",
    "from collections import defaultdict\n"
   ]
  },
  {
   "cell_type": "code",
   "execution_count": 122,
   "id": "c9fa79fa-b94b-4314-8851-86caceed2136",
   "metadata": {},
   "outputs": [],
   "source": [
    "STOPS_FILE = 'google_transit/stops.csv'\n",
    "\n",
    "def get_stops():\n",
    "    stops = []\n",
    "    stops_df = pd.read_csv(STOPS_FILE)\n",
    "    return stops_df\n",
    "\n",
    "        "
   ]
  },
  {
   "cell_type": "code",
   "execution_count": 123,
   "metadata": {},
   "outputs": [],
   "source": [
    "stops = get_stops()"
   ]
  },
  {
   "cell_type": "code",
   "execution_count": 124,
   "metadata": {},
   "outputs": [
    {
     "data": {
      "text/html": [
       "<div>\n",
       "<style scoped>\n",
       "    .dataframe tbody tr th:only-of-type {\n",
       "        vertical-align: middle;\n",
       "    }\n",
       "\n",
       "    .dataframe tbody tr th {\n",
       "        vertical-align: top;\n",
       "    }\n",
       "\n",
       "    .dataframe thead th {\n",
       "        text-align: right;\n",
       "    }\n",
       "</style>\n",
       "<table border=\"1\" class=\"dataframe\">\n",
       "  <thead>\n",
       "    <tr style=\"text-align: right;\">\n",
       "      <th></th>\n",
       "      <th>stop_id</th>\n",
       "      <th>stop_name</th>\n",
       "      <th>stop_lat</th>\n",
       "      <th>stop_lon</th>\n",
       "      <th>location_type</th>\n",
       "      <th>parent_station</th>\n",
       "    </tr>\n",
       "  </thead>\n",
       "  <tbody>\n",
       "    <tr>\n",
       "      <th>0</th>\n",
       "      <td>101</td>\n",
       "      <td>Van Cortlandt Park-242 St</td>\n",
       "      <td>40.889248</td>\n",
       "      <td>-73.898583</td>\n",
       "      <td>1.0</td>\n",
       "      <td>NaN</td>\n",
       "    </tr>\n",
       "    <tr>\n",
       "      <th>1</th>\n",
       "      <td>101N</td>\n",
       "      <td>Van Cortlandt Park-242 St</td>\n",
       "      <td>40.889248</td>\n",
       "      <td>-73.898583</td>\n",
       "      <td>NaN</td>\n",
       "      <td>101</td>\n",
       "    </tr>\n",
       "    <tr>\n",
       "      <th>2</th>\n",
       "      <td>101S</td>\n",
       "      <td>Van Cortlandt Park-242 St</td>\n",
       "      <td>40.889248</td>\n",
       "      <td>-73.898583</td>\n",
       "      <td>NaN</td>\n",
       "      <td>101</td>\n",
       "    </tr>\n",
       "    <tr>\n",
       "      <th>3</th>\n",
       "      <td>103</td>\n",
       "      <td>238 St</td>\n",
       "      <td>40.884667</td>\n",
       "      <td>-73.900870</td>\n",
       "      <td>1.0</td>\n",
       "      <td>NaN</td>\n",
       "    </tr>\n",
       "    <tr>\n",
       "      <th>4</th>\n",
       "      <td>103N</td>\n",
       "      <td>238 St</td>\n",
       "      <td>40.884667</td>\n",
       "      <td>-73.900870</td>\n",
       "      <td>NaN</td>\n",
       "      <td>103</td>\n",
       "    </tr>\n",
       "    <tr>\n",
       "      <th>...</th>\n",
       "      <td>...</td>\n",
       "      <td>...</td>\n",
       "      <td>...</td>\n",
       "      <td>...</td>\n",
       "      <td>...</td>\n",
       "      <td>...</td>\n",
       "    </tr>\n",
       "    <tr>\n",
       "      <th>1492</th>\n",
       "      <td>S30N</td>\n",
       "      <td>Tompkinsville</td>\n",
       "      <td>40.636949</td>\n",
       "      <td>-74.074835</td>\n",
       "      <td>NaN</td>\n",
       "      <td>S30</td>\n",
       "    </tr>\n",
       "    <tr>\n",
       "      <th>1493</th>\n",
       "      <td>S30S</td>\n",
       "      <td>Tompkinsville</td>\n",
       "      <td>40.636949</td>\n",
       "      <td>-74.074835</td>\n",
       "      <td>NaN</td>\n",
       "      <td>S30</td>\n",
       "    </tr>\n",
       "    <tr>\n",
       "      <th>1494</th>\n",
       "      <td>S31</td>\n",
       "      <td>St George</td>\n",
       "      <td>40.643748</td>\n",
       "      <td>-74.073643</td>\n",
       "      <td>1.0</td>\n",
       "      <td>NaN</td>\n",
       "    </tr>\n",
       "    <tr>\n",
       "      <th>1495</th>\n",
       "      <td>S31N</td>\n",
       "      <td>St George</td>\n",
       "      <td>40.643748</td>\n",
       "      <td>-74.073643</td>\n",
       "      <td>NaN</td>\n",
       "      <td>S31</td>\n",
       "    </tr>\n",
       "    <tr>\n",
       "      <th>1496</th>\n",
       "      <td>S31S</td>\n",
       "      <td>St George</td>\n",
       "      <td>40.643748</td>\n",
       "      <td>-74.073643</td>\n",
       "      <td>NaN</td>\n",
       "      <td>S31</td>\n",
       "    </tr>\n",
       "  </tbody>\n",
       "</table>\n",
       "<p>1497 rows × 6 columns</p>\n",
       "</div>"
      ],
      "text/plain": [
       "     stop_id                  stop_name   stop_lat   stop_lon  location_type  \\\n",
       "0        101  Van Cortlandt Park-242 St  40.889248 -73.898583            1.0   \n",
       "1       101N  Van Cortlandt Park-242 St  40.889248 -73.898583            NaN   \n",
       "2       101S  Van Cortlandt Park-242 St  40.889248 -73.898583            NaN   \n",
       "3        103                     238 St  40.884667 -73.900870            1.0   \n",
       "4       103N                     238 St  40.884667 -73.900870            NaN   \n",
       "...      ...                        ...        ...        ...            ...   \n",
       "1492    S30N              Tompkinsville  40.636949 -74.074835            NaN   \n",
       "1493    S30S              Tompkinsville  40.636949 -74.074835            NaN   \n",
       "1494     S31                  St George  40.643748 -74.073643            1.0   \n",
       "1495    S31N                  St George  40.643748 -74.073643            NaN   \n",
       "1496    S31S                  St George  40.643748 -74.073643            NaN   \n",
       "\n",
       "     parent_station  \n",
       "0               NaN  \n",
       "1               101  \n",
       "2               101  \n",
       "3               NaN  \n",
       "4               103  \n",
       "...             ...  \n",
       "1492            S30  \n",
       "1493            S30  \n",
       "1494            NaN  \n",
       "1495            S31  \n",
       "1496            S31  \n",
       "\n",
       "[1497 rows x 6 columns]"
      ]
     },
     "execution_count": 124,
     "metadata": {},
     "output_type": "execute_result"
    }
   ],
   "source": [
    "stops"
   ]
  },
  {
   "cell_type": "code",
   "execution_count": 93,
   "metadata": {},
   "outputs": [
    {
     "data": {
      "text/plain": [
       "Name                                                               86th St\n",
       "(Latitude, Longitude)              (40.77949199820952, -73.95558899985132)\n",
       "Lines                                         ['4', '5', '6', '6 Express']\n",
       "Alternate ID                                                           626\n",
       "Northbound               ['01:36:30', '01:36:30', '01:36:30', '01:54:00...\n",
       "Southbound               ['00:31:30', '00:31:30', '00:31:30', '00:43:30...\n",
       "Name: 450, dtype: object"
      ]
     },
     "execution_count": 93,
     "metadata": {},
     "output_type": "execute_result"
    }
   ],
   "source": [
    "schedule.iloc[450]"
   ]
  },
  {
   "cell_type": "code",
   "execution_count": 94,
   "metadata": {},
   "outputs": [],
   "source": [
    "all_stations_from_line = set()\n",
    "for line, stations in line_data.items():\n",
    "    for station in stations:\n",
    "        all_stations_from_line.add(station[0])"
   ]
  },
  {
   "cell_type": "code",
   "execution_count": 96,
   "metadata": {},
   "outputs": [
    {
     "data": {
      "text/plain": [
       "359"
      ]
     },
     "execution_count": 96,
     "metadata": {},
     "output_type": "execute_result"
    }
   ],
   "source": [
    "len(all_stations_from_line)"
   ]
  },
  {
   "cell_type": "code",
   "execution_count": null,
   "metadata": {},
   "outputs": [],
   "source": []
  }
 ],
 "metadata": {
  "kernelspec": {
   "display_name": "Python 3 (ipykernel)",
   "language": "python",
   "name": "python3"
  },
  "language_info": {
   "codemirror_mode": {
    "name": "ipython",
    "version": 3
   },
   "file_extension": ".py",
   "mimetype": "text/x-python",
   "name": "python",
   "nbconvert_exporter": "python",
   "pygments_lexer": "ipython3",
   "version": "3.11.5"
  }
 },
 "nbformat": 4,
 "nbformat_minor": 5
}
