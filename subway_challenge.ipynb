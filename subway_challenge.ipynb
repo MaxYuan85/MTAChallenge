{
 "cells": [
  {
   "cell_type": "code",
   "execution_count": 188,
   "id": "b9216edd-790b-4da1-bac3-0d3923e09653",
   "metadata": {},
   "outputs": [],
   "source": [
    "import pandas as pd\n",
    "from collections import defaultdict\n"
   ]
  },
  {
   "cell_type": "code",
   "execution_count": 142,
   "id": "c9fa79fa-b94b-4314-8851-86caceed2136",
   "metadata": {},
   "outputs": [],
   "source": [
    "STOPS_FILE = 'google_transit/stops.csv'\n",
    "STOP_TIMES = 'google_transit/stop_times.csv'\n",
    "TRIPS_FILE = 'google_transit/trips.csv'\n",
    "SHAPES_FILE = 'google_transit/shapes.csv'\n",
    "\n",
    "def get_stops():\n",
    "    stops_df = pd.read_csv(STOPS_FILE)\n",
    "    return stops_df\n",
    "\n",
    "def get_stop_times():\n",
    "    stop_times_df = pd.read_csv(STOP_TIMES)\n",
    "    return stop_times_df\n",
    "\n",
    "def get_trips():\n",
    "    trips_df = pd.read_csv(TRIPS_FILE)\n",
    "    return trips_df\n",
    "\n",
    "def get_shapes():\n",
    "    shapes_df = pd.read_csv(SHAPES_FILE)\n",
    "    return shapes_df\n",
    "\n",
    "        "
   ]
  },
  {
   "cell_type": "code",
   "execution_count": 199,
   "metadata": {},
   "outputs": [],
   "source": [
    "stops = get_stops()\n",
    "stop_times = get_stop_times()\n",
    "trips = get_trips()\n",
    "raw_paths = get_shapes()\n",
    "\n",
    "def get_stop_str(lat, lon):\n",
    "  return str(lat) + '_' + str(lon)\n",
    "\n",
    "parent_stops = stops[stops['location_type'] == 1.0]\n",
    "lat_lon_to_stop_id = {}\n",
    "for index, row in parent_stops.iterrows():\n",
    "  lat_lon_to_stop_id[get_stop_str(row['stop_lat'], row['stop_lon'])] = row['stop_id']\n",
    "\n",
    "def get_stop_id(lat, lon):\n",
    "  return lat_lon_to_stop_id.get(get_stop_str(lat, lon), None)\n",
    "\n",
    "def get_stop_from_id(stop_id):\n",
    "  return stops[stops['stop_id'] == stop_id].iloc[0]['stop_name']\n"
   ]
  },
  {
   "cell_type": "code",
   "execution_count": 205,
   "metadata": {},
   "outputs": [
    {
     "data": {
      "text/plain": [
       "['Eastchester-Dyre Av',\n",
       " 'Baychester Av',\n",
       " 'Gun Hill Rd',\n",
       " 'Pelham Pkwy',\n",
       " 'Morris Park',\n",
       " 'E 180 St',\n",
       " 'West Farms Sq-E Tremont Av',\n",
       " '174 St',\n",
       " 'Freeman St',\n",
       " 'Simpson St',\n",
       " 'Intervale Av',\n",
       " 'Prospect Av',\n",
       " 'Jackson Av',\n",
       " '3 Av-149 St',\n",
       " '149 St-Grand Concourse',\n",
       " '138 St-Grand Concourse',\n",
       " '125 St',\n",
       " '116 St',\n",
       " '110 St',\n",
       " '103 St',\n",
       " '96 St',\n",
       " '86 St',\n",
       " '77 St',\n",
       " '68 St-Hunter College',\n",
       " '59 St',\n",
       " '51 St',\n",
       " 'Grand Central-42 St',\n",
       " '33 St',\n",
       " '28 St',\n",
       " '23 St',\n",
       " '14 St-Union Sq',\n",
       " 'Astor Pl',\n",
       " 'Bleecker St',\n",
       " 'Spring St',\n",
       " 'Canal St',\n",
       " 'Brooklyn Bridge-City Hall',\n",
       " 'Fulton St',\n",
       " 'Wall St',\n",
       " 'Bowling Green',\n",
       " 'Borough Hall',\n",
       " 'Hoyt St',\n",
       " 'Nevins St',\n",
       " 'Atlantic Av-Barclays Ctr',\n",
       " 'Bergen St',\n",
       " 'Grand Army Plaza',\n",
       " 'Eastern Pkwy-Brooklyn Museum',\n",
       " 'Franklin Av-Medgar Evers College',\n",
       " 'President St-Medgar Evers College',\n",
       " 'Sterling St',\n",
       " 'Winthrop St',\n",
       " 'Church Av',\n",
       " 'Beverly Rd',\n",
       " 'Newkirk Av-Little Haiti',\n",
       " 'Flatbush Av-Brooklyn College']"
      ]
     },
     "execution_count": 205,
     "metadata": {},
     "output_type": "execute_result"
    }
   ],
   "source": [
    "\n",
    "def get_stop_ids_for_shape_id(shape_id):\n",
    "  stop_ids = []\n",
    "  for index, row in raw_paths[raw_paths['shape_id'] == shape_id].iterrows():\n",
    "    stop_id = get_stop_id(row['shape_pt_lat'], row['shape_pt_lon'])\n",
    "    if(stop_id != None):\n",
    "      stop_ids.append(stop_id)\n",
    "  return stop_ids\n",
    "\n",
    "\n",
    "test_stop_ids = get_stop_ids_for_shape_id('5..S03R')\n",
    "[get_stop_from_id(stop_id) for stop_id in test_stop_ids]\n"
   ]
  },
  {
   "cell_type": "markdown",
   "metadata": {},
   "source": [
    "stops is self explanatory. There are 499 stops in the system. (We might need to exclude the staten island ones later)\n",
    "Stop ID, Stop Name, stop lat, and lon helps us uniquely identify each with shapes later\n",
    "\n",
    "shapes essentially describes the path of each train line. 2..N03R\tfor example describes New Lots Ave to Wakefield-241 St and 1..N03R describes South Ferry to Van Cortlandt Park-242 St.\n",
    "Both technically belong to the 1 train, but have different starting and endpoints. \n",
    "\n",
    "let's ignore stop times for now\n",
    "\n",
    "Let's start with part 1, imagine it takes the same time go between station, you don't ever have to wait for any trains, what is the minimum number of steps it takes to traverse all stations."
   ]
  },
  {
   "cell_type": "code",
   "execution_count": 192,
   "metadata": {},
   "outputs": [
    {
     "data": {
      "text/plain": [
       "\"\\nstops is self explanatory. There are 499 stops in the system. (We might need to exclude the staten island ones later)\\nStop ID, Stop Name, stop lat, and lon helps us uniquely identify each with shapes later\\n\\nshapes essentially describes the path of each train line. 2..N03R\\tfor example describes New Lots Ave to Wakefield-241 St and 1..N03R describes South Ferry to Van Cortlandt Park-242 St.\\nBoth technically belong to the 1 train, but have different starting and endpoints. \\n\\nlet's ignore stop times for now\\n\""
      ]
     },
     "execution_count": 192,
     "metadata": {},
     "output_type": "execute_result"
    }
   ],
   "source": []
  },
  {
   "cell_type": "code",
   "execution_count": null,
   "metadata": {},
   "outputs": [],
   "source": []
  },
  {
   "cell_type": "code",
   "execution_count": null,
   "metadata": {},
   "outputs": [],
   "source": []
  }
 ],
 "metadata": {
  "kernelspec": {
   "display_name": "Python 3 (ipykernel)",
   "language": "python",
   "name": "python3"
  },
  "language_info": {
   "codemirror_mode": {
    "name": "ipython",
    "version": 3
   },
   "file_extension": ".py",
   "mimetype": "text/x-python",
   "name": "python",
   "nbconvert_exporter": "python",
   "pygments_lexer": "ipython3",
   "version": "3.11.5"
  }
 },
 "nbformat": 4,
 "nbformat_minor": 5
}
